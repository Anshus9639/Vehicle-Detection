{
  "cells": [
    {
      "cell_type": "code",
      "source": [
        "!pip install ultralytics\n"
      ],
      "metadata": {
        "id": "DfYQolBdFE2F"
      },
      "execution_count": null,
      "outputs": []
    },
    {
      "cell_type": "code",
      "source": [
        "!pip install roboflow\n",
        "\n",
        "from roboflow import Roboflow\n",
        "rf = Roboflow(api_key=\"ZJG7KkCJNzQWl902K6eO\")\n",
        "project = rf.workspace(\"spacehorror\").project(\"vehicles-q0x2v-slcqg\")\n",
        "version = project.version(1)\n",
        "dataset = version.download(\"yolov8\")\n",
        ""
      ],
      "metadata": {
        "id": "YWhROZmuFaQk"
      },
      "execution_count": null,
      "outputs": []
    },
    {
      "cell_type": "code",
      "source": [
        "from ultralytics import YOLO\n",
        "\n",
        "# Load a pre-trained model\n",
        "model = YOLO('yolov8n.pt')\n",
        "\n",
        "# Train the model\n",
        "results = model.train(\n",
        "   data='/content/vehicles-1/data.yaml',\n",
        "   epochs=25,\n",
        "   imgsz=640,\n",
        "   name='yolov8_4k_vehicles'  # Give your training run a custom name\n",
        ")"
      ],
      "metadata": {
        "id": "S-f0_JVdFma5"
      },
      "execution_count": null,
      "outputs": []
    },
    {
      "cell_type": "code",
      "source": [
        "from ultralytics import YOLO\n",
        "from google.colab.patches import cv2_imshow\n",
        "\n",
        "# Load your custom-trained model\n",
        "# The path will be based on the 'name' you set in the training step\n",
        "model_path = '/content/runs/detect/yolov8_4k_vehicles/weights/best.pt'\n",
        "model = YOLO(model_path)\n",
        "\n",
        "# Run inference on a new image\n",
        "# !!! IMPORTANT !!!\n",
        "# Replace 'your_test_image.jpg' with the name of the image you uploaded\n",
        "image_path = '/content/traffic.jpg'\n",
        "results = model(image_path)\n",
        "\n",
        "# Display the results\n",
        "annotated_image = results[0].plot()\n",
        "cv2_imshow(annotated_image)"
      ],
      "metadata": {
        "collapsed": true,
        "id": "_AO18RdV9Akx"
      },
      "execution_count": null,
      "outputs": []
    }
  ],
  "metadata": {
    "accelerator": "GPU",
    "colab": {
      "gpuType": "T4",
      "provenance": []
    },
    "kernelspec": {
      "display_name": "Python 3",
      "name": "python3"
    },
    "language_info": {
      "codemirror_mode": {
        "name": "ipython",
        "version": 3
      },
      "file_extension": ".py",
      "mimetype": "text/x-python",
      "name": "python",
      "nbconvert_exporter": "python",
      "pygments_lexer": "ipython3",
      "version": "3.9.6"
    }
  },
  "nbformat": 4,
  "nbformat_minor": 0
}